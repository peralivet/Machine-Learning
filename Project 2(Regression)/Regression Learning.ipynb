{
 "cells": [
  {
   "cell_type": "markdown",
   "id": "5addba01",
   "metadata": {},
   "source": [
    "## Regression Machine Learning Project\n",
    "\n",
    "*Using the California housing Dataset for a Regression Problem. The target variable is the median house value for California districts, expressed in hundreds of thousands of dollars ($100,000)."
   ]
  },
  {
   "cell_type": "markdown",
   "id": "01e184eb",
   "metadata": {},
   "source": [
    "### Getting the California housing Dataset\n",
    "\n",
    "* This will be fetched using the Sklearn import \n",
    "* Import it and putting it in a Dataframe"
   ]
  },
  {
   "cell_type": "code",
   "execution_count": 21,
   "id": "22bc82aa",
   "metadata": {},
   "outputs": [
    {
     "data": {
      "text/plain": [
       "{'data': array([[   8.3252    ,   41.        ,    6.98412698, ...,    2.55555556,\n",
       "           37.88      , -122.23      ],\n",
       "        [   8.3014    ,   21.        ,    6.23813708, ...,    2.10984183,\n",
       "           37.86      , -122.22      ],\n",
       "        [   7.2574    ,   52.        ,    8.28813559, ...,    2.80225989,\n",
       "           37.85      , -122.24      ],\n",
       "        ...,\n",
       "        [   1.7       ,   17.        ,    5.20554273, ...,    2.3256351 ,\n",
       "           39.43      , -121.22      ],\n",
       "        [   1.8672    ,   18.        ,    5.32951289, ...,    2.12320917,\n",
       "           39.43      , -121.32      ],\n",
       "        [   2.3886    ,   16.        ,    5.25471698, ...,    2.61698113,\n",
       "           39.37      , -121.24      ]]),\n",
       " 'target': array([4.526, 3.585, 3.521, ..., 0.923, 0.847, 0.894]),\n",
       " 'frame': None,\n",
       " 'target_names': ['MedHouseVal'],\n",
       " 'feature_names': ['MedInc',\n",
       "  'HouseAge',\n",
       "  'AveRooms',\n",
       "  'AveBedrms',\n",
       "  'Population',\n",
       "  'AveOccup',\n",
       "  'Latitude',\n",
       "  'Longitude'],\n",
       " 'DESCR': '.. _california_housing_dataset:\\n\\nCalifornia Housing dataset\\n--------------------------\\n\\n**Data Set Characteristics:**\\n\\n    :Number of Instances: 20640\\n\\n    :Number of Attributes: 8 numeric, predictive attributes and the target\\n\\n    :Attribute Information:\\n        - MedInc        median income in block group\\n        - HouseAge      median house age in block group\\n        - AveRooms      average number of rooms per household\\n        - AveBedrms     average number of bedrooms per household\\n        - Population    block group population\\n        - AveOccup      average number of household members\\n        - Latitude      block group latitude\\n        - Longitude     block group longitude\\n\\n    :Missing Attribute Values: None\\n\\nThis dataset was obtained from the StatLib repository.\\nhttps://www.dcc.fc.up.pt/~ltorgo/Regression/cal_housing.html\\n\\nThe target variable is the median house value for California districts,\\nexpressed in hundreds of thousands of dollars ($100,000).\\n\\nThis dataset was derived from the 1990 U.S. census, using one row per census\\nblock group. A block group is the smallest geographical unit for which the U.S.\\nCensus Bureau publishes sample data (a block group typically has a population\\nof 600 to 3,000 people).\\n\\nAn household is a group of people residing within a home. Since the average\\nnumber of rooms and bedrooms in this dataset are provided per household, these\\ncolumns may take surpinsingly large values for block groups with few households\\nand many empty houses, such as vacation resorts.\\n\\nIt can be downloaded/loaded using the\\n:func:`sklearn.datasets.fetch_california_housing` function.\\n\\n.. topic:: References\\n\\n    - Pace, R. Kelley and Ronald Barry, Sparse Spatial Autoregressions,\\n      Statistics and Probability Letters, 33 (1997) 291-297\\n'}"
      ]
     },
     "execution_count": 21,
     "metadata": {},
     "output_type": "execute_result"
    }
   ],
   "source": [
    "#Fetching the dataset from sklearn\n",
    "\n",
    "#Library\n",
    "from sklearn.datasets import fetch_california_housing\n",
    "\n",
    "#Fetching the data(dictionary) into a variable from the fetch_california_housing function\n",
    "housing = fetch_california_housing()\n",
    "housing"
   ]
  },
  {
   "cell_type": "markdown",
   "id": "1b5add41",
   "metadata": {},
   "source": [
    "#### The result fetch the data in a form of a dictionary. Next step will be to convert the data to a dataframe"
   ]
  },
  {
   "cell_type": "markdown",
   "id": "841a0144",
   "metadata": {},
   "source": [
    "### Loading Data into Dataframe\n",
    "\n",
    "* Converting the loaded dictionary data above into a dataframe\n",
    "    * **housing[\"data\"]** contains the entire data record minus the target data\n",
    "    * **columns = [\"feature_names\"]** will be used to pull the features(column) names minus the target variables\n",
    "    * **housing[\"target\"]**  contains the target variable"
   ]
  },
  {
   "cell_type": "code",
   "execution_count": 22,
   "id": "e1fe98c0",
   "metadata": {},
   "outputs": [],
   "source": [
    "#Importing Pandas\n",
    "import pandas as pd\n",
    "\n",
    "#creating the data frame\n",
    "housing_df = pd.DataFrame(housing[\"data\"], columns = housing[\"feature_names\"])"
   ]
  },
  {
   "cell_type": "code",
   "execution_count": 23,
   "id": "ee07fcf4",
   "metadata": {},
   "outputs": [],
   "source": [
    "#Adding the target variable\n",
    "housing_df[\"target\"] = housing[\"target\"] "
   ]
  },
  {
   "cell_type": "markdown",
   "id": "7333e26c",
   "metadata": {},
   "source": [
    "### Viewing the newly created DataFrame"
   ]
  },
  {
   "cell_type": "code",
   "execution_count": 24,
   "id": "fc91ca44",
   "metadata": {},
   "outputs": [
    {
     "data": {
      "text/html": [
       "<div>\n",
       "<style scoped>\n",
       "    .dataframe tbody tr th:only-of-type {\n",
       "        vertical-align: middle;\n",
       "    }\n",
       "\n",
       "    .dataframe tbody tr th {\n",
       "        vertical-align: top;\n",
       "    }\n",
       "\n",
       "    .dataframe thead th {\n",
       "        text-align: right;\n",
       "    }\n",
       "</style>\n",
       "<table border=\"1\" class=\"dataframe\">\n",
       "  <thead>\n",
       "    <tr style=\"text-align: right;\">\n",
       "      <th></th>\n",
       "      <th>MedInc</th>\n",
       "      <th>HouseAge</th>\n",
       "      <th>AveRooms</th>\n",
       "      <th>AveBedrms</th>\n",
       "      <th>Population</th>\n",
       "      <th>AveOccup</th>\n",
       "      <th>Latitude</th>\n",
       "      <th>Longitude</th>\n",
       "      <th>target</th>\n",
       "    </tr>\n",
       "  </thead>\n",
       "  <tbody>\n",
       "    <tr>\n",
       "      <th>0</th>\n",
       "      <td>8.3252</td>\n",
       "      <td>41.0</td>\n",
       "      <td>6.984127</td>\n",
       "      <td>1.023810</td>\n",
       "      <td>322.0</td>\n",
       "      <td>2.555556</td>\n",
       "      <td>37.88</td>\n",
       "      <td>-122.23</td>\n",
       "      <td>4.526</td>\n",
       "    </tr>\n",
       "    <tr>\n",
       "      <th>1</th>\n",
       "      <td>8.3014</td>\n",
       "      <td>21.0</td>\n",
       "      <td>6.238137</td>\n",
       "      <td>0.971880</td>\n",
       "      <td>2401.0</td>\n",
       "      <td>2.109842</td>\n",
       "      <td>37.86</td>\n",
       "      <td>-122.22</td>\n",
       "      <td>3.585</td>\n",
       "    </tr>\n",
       "    <tr>\n",
       "      <th>2</th>\n",
       "      <td>7.2574</td>\n",
       "      <td>52.0</td>\n",
       "      <td>8.288136</td>\n",
       "      <td>1.073446</td>\n",
       "      <td>496.0</td>\n",
       "      <td>2.802260</td>\n",
       "      <td>37.85</td>\n",
       "      <td>-122.24</td>\n",
       "      <td>3.521</td>\n",
       "    </tr>\n",
       "    <tr>\n",
       "      <th>3</th>\n",
       "      <td>5.6431</td>\n",
       "      <td>52.0</td>\n",
       "      <td>5.817352</td>\n",
       "      <td>1.073059</td>\n",
       "      <td>558.0</td>\n",
       "      <td>2.547945</td>\n",
       "      <td>37.85</td>\n",
       "      <td>-122.25</td>\n",
       "      <td>3.413</td>\n",
       "    </tr>\n",
       "    <tr>\n",
       "      <th>4</th>\n",
       "      <td>3.8462</td>\n",
       "      <td>52.0</td>\n",
       "      <td>6.281853</td>\n",
       "      <td>1.081081</td>\n",
       "      <td>565.0</td>\n",
       "      <td>2.181467</td>\n",
       "      <td>37.85</td>\n",
       "      <td>-122.25</td>\n",
       "      <td>3.422</td>\n",
       "    </tr>\n",
       "  </tbody>\n",
       "</table>\n",
       "</div>"
      ],
      "text/plain": [
       "   MedInc  HouseAge  AveRooms  AveBedrms  Population  AveOccup  Latitude  \\\n",
       "0  8.3252      41.0  6.984127   1.023810       322.0  2.555556     37.88   \n",
       "1  8.3014      21.0  6.238137   0.971880      2401.0  2.109842     37.86   \n",
       "2  7.2574      52.0  8.288136   1.073446       496.0  2.802260     37.85   \n",
       "3  5.6431      52.0  5.817352   1.073059       558.0  2.547945     37.85   \n",
       "4  3.8462      52.0  6.281853   1.081081       565.0  2.181467     37.85   \n",
       "\n",
       "   Longitude  target  \n",
       "0    -122.23   4.526  \n",
       "1    -122.22   3.585  \n",
       "2    -122.24   3.521  \n",
       "3    -122.25   3.413  \n",
       "4    -122.25   3.422  "
      ]
     },
     "execution_count": 24,
     "metadata": {},
     "output_type": "execute_result"
    }
   ],
   "source": [
    "housing_df.head()"
   ]
  },
  {
   "cell_type": "markdown",
   "id": "77f042d3",
   "metadata": {},
   "source": [
    "### Features and Target Information\n",
    "\n",
    "* Here is the data dictionary \n",
    "    * MedInc median income in block group\n",
    "    * HouseAge median house age in block group\n",
    "    * AveRooms average number of rooms per household\n",
    "    * AveBedrms average number of bedrooms per household\n",
    "    * Population block group population\n",
    "    * AveOccup average number of household members\n",
    "    * Latitude block group latitude\n",
    "    * Longitude block group longitude"
   ]
  },
  {
   "cell_type": "markdown",
   "id": "82d47217",
   "metadata": {},
   "source": [
    "### Split the Dataset\n",
    "\n",
    "* Putting the feature data in X\n",
    "* putting the target data in y"
   ]
  },
  {
   "cell_type": "code",
   "execution_count": 28,
   "id": "614b1b18",
   "metadata": {},
   "outputs": [],
   "source": [
    "#Feature data\n",
    "X = housing_df.drop(\"target\", axis=1)\n",
    "#target data\n",
    "y = housing_df[\"target\"]"
   ]
  },
  {
   "cell_type": "code",
   "execution_count": 31,
   "id": "8c768857",
   "metadata": {},
   "outputs": [],
   "source": [
    "#import library for splitting\n",
    "from sklearn.model_selection import train_test_split\n",
    "\n",
    "#split the data into train and test\n",
    "X_train, x_test, y_train, y_test = train_test_split(X,\n",
    "                                                   y,\n",
    "                                                   test_size = 0.2)"
   ]
  },
  {
   "cell_type": "markdown",
   "id": "5958c710",
   "metadata": {},
   "source": [
    "### Choosing the Algorithm\n",
    "\n",
    "* Using Ridge model"
   ]
  },
  {
   "cell_type": "code",
   "execution_count": 34,
   "id": "7dd08fc7",
   "metadata": {},
   "outputs": [
    {
     "data": {
      "text/plain": [
       "0.614709997309058"
      ]
     },
     "execution_count": 34,
     "metadata": {},
     "output_type": "execute_result"
    }
   ],
   "source": [
    "from sklearn.linear_model import Ridge\n",
    "\n",
    "#Initializing the model\n",
    "regmodel = Ridge()\n",
    "#Fitting the model\n",
    "regmodel.fit(X_train,y_train)\n",
    "\n",
    "#Scoring the model\n",
    "regmodel.score(x_test, y_test)"
   ]
  },
  {
   "cell_type": "markdown",
   "id": "aec6a99e",
   "metadata": {},
   "source": [
    "### Choosing the Algorithm\n",
    "\n",
    "* Using Random Forest"
   ]
  },
  {
   "cell_type": "code",
   "execution_count": 36,
   "id": "10921678",
   "metadata": {},
   "outputs": [
    {
     "data": {
      "text/plain": [
       "0.8137454217425448"
      ]
     },
     "execution_count": 36,
     "metadata": {},
     "output_type": "execute_result"
    }
   ],
   "source": [
    "#importing the library\n",
    "from sklearn.ensemble import RandomForestRegressor\n",
    "\n",
    "#initializing the model\n",
    "ranfog = RandomForestRegressor()\n",
    "\n",
    "#fitting the model\n",
    "ranfog.fit(X_train,y_train)\n",
    "\n",
    "#scoring the model\n",
    "ranfog.score(x_test,y_test)\n"
   ]
  },
  {
   "cell_type": "markdown",
   "id": "8bec3ab4",
   "metadata": {},
   "source": [
    "### Conclusion\n",
    "\n",
    "#### From the above, The random forest model scored higher than the Ridge model"
   ]
  },
  {
   "cell_type": "code",
   "execution_count": null,
   "id": "dd938752",
   "metadata": {},
   "outputs": [],
   "source": []
  }
 ],
 "metadata": {
  "kernelspec": {
   "display_name": "Python 3 (ipykernel)",
   "language": "python",
   "name": "python3"
  },
  "language_info": {
   "codemirror_mode": {
    "name": "ipython",
    "version": 3
   },
   "file_extension": ".py",
   "mimetype": "text/x-python",
   "name": "python",
   "nbconvert_exporter": "python",
   "pygments_lexer": "ipython3",
   "version": "3.9.12"
  }
 },
 "nbformat": 4,
 "nbformat_minor": 5
}
