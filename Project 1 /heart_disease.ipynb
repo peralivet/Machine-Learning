{
 "cells": [
  {
   "cell_type": "markdown",
   "id": "4fc7eb48",
   "metadata": {},
   "source": [
    "# Library Import\n",
    "\n",
    "* Importing the necessary libraries for my project"
   ]
  },
  {
   "cell_type": "code",
   "execution_count": 130,
   "id": "1e566dea",
   "metadata": {},
   "outputs": [],
   "source": [
    "#import pandas\n",
    "import pandas as pd\n",
    "#import Numpy\n",
    "import numpy as np"
   ]
  },
  {
   "cell_type": "markdown",
   "id": "3a9b58a7",
   "metadata": {},
   "source": [
    "# Loading the data into a Dataframe\n",
    "\n",
    "* Using the pandas function 'read_csv' to read the data from the file location"
   ]
  },
  {
   "cell_type": "code",
   "execution_count": 131,
   "id": "9a3c7fda",
   "metadata": {},
   "outputs": [],
   "source": [
    "#Loading the dataset into the heart_disease library\n",
    "heart_disease = pd.read_csv (\"/Users/mac/Downloads/011 heart-disease.csv\")"
   ]
  },
  {
   "cell_type": "markdown",
   "id": "43bafe11",
   "metadata": {},
   "source": [
    "## Checking the first few records in the new Dataframe\n",
    "\n",
    "* The head() function will be used to check the first few record in the newly loaded dataframe"
   ]
  },
  {
   "cell_type": "code",
   "execution_count": 132,
   "id": "d137c125",
   "metadata": {},
   "outputs": [
    {
     "data": {
      "text/html": [
       "<div>\n",
       "<style scoped>\n",
       "    .dataframe tbody tr th:only-of-type {\n",
       "        vertical-align: middle;\n",
       "    }\n",
       "\n",
       "    .dataframe tbody tr th {\n",
       "        vertical-align: top;\n",
       "    }\n",
       "\n",
       "    .dataframe thead th {\n",
       "        text-align: right;\n",
       "    }\n",
       "</style>\n",
       "<table border=\"1\" class=\"dataframe\">\n",
       "  <thead>\n",
       "    <tr style=\"text-align: right;\">\n",
       "      <th></th>\n",
       "      <th>age</th>\n",
       "      <th>sex</th>\n",
       "      <th>cp</th>\n",
       "      <th>trestbps</th>\n",
       "      <th>chol</th>\n",
       "      <th>fbs</th>\n",
       "      <th>restecg</th>\n",
       "      <th>thalach</th>\n",
       "      <th>exang</th>\n",
       "      <th>oldpeak</th>\n",
       "      <th>slope</th>\n",
       "      <th>ca</th>\n",
       "      <th>thal</th>\n",
       "      <th>target</th>\n",
       "    </tr>\n",
       "  </thead>\n",
       "  <tbody>\n",
       "    <tr>\n",
       "      <th>0</th>\n",
       "      <td>63</td>\n",
       "      <td>1</td>\n",
       "      <td>3</td>\n",
       "      <td>145</td>\n",
       "      <td>233</td>\n",
       "      <td>1</td>\n",
       "      <td>0</td>\n",
       "      <td>150</td>\n",
       "      <td>0</td>\n",
       "      <td>2.3</td>\n",
       "      <td>0</td>\n",
       "      <td>0</td>\n",
       "      <td>1</td>\n",
       "      <td>1</td>\n",
       "    </tr>\n",
       "    <tr>\n",
       "      <th>1</th>\n",
       "      <td>37</td>\n",
       "      <td>1</td>\n",
       "      <td>2</td>\n",
       "      <td>130</td>\n",
       "      <td>250</td>\n",
       "      <td>0</td>\n",
       "      <td>1</td>\n",
       "      <td>187</td>\n",
       "      <td>0</td>\n",
       "      <td>3.5</td>\n",
       "      <td>0</td>\n",
       "      <td>0</td>\n",
       "      <td>2</td>\n",
       "      <td>1</td>\n",
       "    </tr>\n",
       "    <tr>\n",
       "      <th>2</th>\n",
       "      <td>41</td>\n",
       "      <td>0</td>\n",
       "      <td>1</td>\n",
       "      <td>130</td>\n",
       "      <td>204</td>\n",
       "      <td>0</td>\n",
       "      <td>0</td>\n",
       "      <td>172</td>\n",
       "      <td>0</td>\n",
       "      <td>1.4</td>\n",
       "      <td>2</td>\n",
       "      <td>0</td>\n",
       "      <td>2</td>\n",
       "      <td>1</td>\n",
       "    </tr>\n",
       "    <tr>\n",
       "      <th>3</th>\n",
       "      <td>56</td>\n",
       "      <td>1</td>\n",
       "      <td>1</td>\n",
       "      <td>120</td>\n",
       "      <td>236</td>\n",
       "      <td>0</td>\n",
       "      <td>1</td>\n",
       "      <td>178</td>\n",
       "      <td>0</td>\n",
       "      <td>0.8</td>\n",
       "      <td>2</td>\n",
       "      <td>0</td>\n",
       "      <td>2</td>\n",
       "      <td>1</td>\n",
       "    </tr>\n",
       "    <tr>\n",
       "      <th>4</th>\n",
       "      <td>57</td>\n",
       "      <td>0</td>\n",
       "      <td>0</td>\n",
       "      <td>120</td>\n",
       "      <td>354</td>\n",
       "      <td>0</td>\n",
       "      <td>1</td>\n",
       "      <td>163</td>\n",
       "      <td>1</td>\n",
       "      <td>0.6</td>\n",
       "      <td>2</td>\n",
       "      <td>0</td>\n",
       "      <td>2</td>\n",
       "      <td>1</td>\n",
       "    </tr>\n",
       "  </tbody>\n",
       "</table>\n",
       "</div>"
      ],
      "text/plain": [
       "   age  sex  cp  trestbps  chol  fbs  restecg  thalach  exang  oldpeak  slope  \\\n",
       "0   63    1   3       145   233    1        0      150      0      2.3      0   \n",
       "1   37    1   2       130   250    0        1      187      0      3.5      0   \n",
       "2   41    0   1       130   204    0        0      172      0      1.4      2   \n",
       "3   56    1   1       120   236    0        1      178      0      0.8      2   \n",
       "4   57    0   0       120   354    0        1      163      1      0.6      2   \n",
       "\n",
       "   ca  thal  target  \n",
       "0   0     1       1  \n",
       "1   0     2       1  \n",
       "2   0     2       1  \n",
       "3   0     2       1  \n",
       "4   0     2       1  "
      ]
     },
     "execution_count": 132,
     "metadata": {},
     "output_type": "execute_result"
    }
   ],
   "source": [
    "heart_disease.head()"
   ]
  },
  {
   "cell_type": "markdown",
   "id": "77a14903",
   "metadata": {},
   "source": [
    "## Choosing Features and Target variables\n",
    "\n",
    "* Features is achieved by removing only the target column from the dataframe and assigning it to variable X\n",
    "* Target is achieved by just assigning the data in the target column to the variable Y"
   ]
  },
  {
   "cell_type": "code",
   "execution_count": 133,
   "id": "dd211967",
   "metadata": {},
   "outputs": [],
   "source": [
    "# Features as X\n",
    "X = heart_disease.drop(\"target\",axis = 1) \n",
    "\n",
    "# Target as Y\n",
    "y = heart_disease[\"target\"]"
   ]
  },
  {
   "cell_type": "markdown",
   "id": "ca1b850d",
   "metadata": {},
   "source": [
    "## Choosing the model and hyperparameter\n",
    "\n",
    "* Random Forest will be used for this task"
   ]
  },
  {
   "cell_type": "code",
   "execution_count": 134,
   "id": "bca2f2ba",
   "metadata": {},
   "outputs": [
    {
     "data": {
      "text/plain": [
       "{'bootstrap': True,\n",
       " 'ccp_alpha': 0.0,\n",
       " 'class_weight': None,\n",
       " 'criterion': 'gini',\n",
       " 'max_depth': None,\n",
       " 'max_features': 'auto',\n",
       " 'max_leaf_nodes': None,\n",
       " 'max_samples': None,\n",
       " 'min_impurity_decrease': 0.0,\n",
       " 'min_samples_leaf': 1,\n",
       " 'min_samples_split': 2,\n",
       " 'min_weight_fraction_leaf': 0.0,\n",
       " 'n_estimators': 100,\n",
       " 'n_jobs': None,\n",
       " 'oob_score': False,\n",
       " 'random_state': None,\n",
       " 'verbose': 0,\n",
       " 'warm_start': False}"
      ]
     },
     "execution_count": 134,
     "metadata": {},
     "output_type": "execute_result"
    }
   ],
   "source": [
    "#importing the Randomforest library\n",
    "from sklearn.ensemble import RandomForestClassifier\n",
    "\n",
    "#initiating the model\n",
    "clf = RandomForestClassifier(n_estimators = 100)\n",
    "\n",
    "#getting the hyperparameters\n",
    "clf.get_params()"
   ]
  },
  {
   "cell_type": "markdown",
   "id": "8a03b64a",
   "metadata": {},
   "source": [
    "## Data Splitting\n",
    "\n",
    "* Split the model into training and test data"
   ]
  },
  {
   "cell_type": "code",
   "execution_count": 135,
   "id": "de936e8e",
   "metadata": {},
   "outputs": [],
   "source": [
    "#import train test split \n",
    "from sklearn.model_selection import train_test_split\n",
    "\n",
    "#Splitting the data into training and test set\n",
    "X_train, X_test, y_train, y_test = train_test_split(X, y, test_size = 0.2)"
   ]
  },
  {
   "cell_type": "markdown",
   "id": "5917d87c",
   "metadata": {},
   "source": [
    "## Fitting the model\n",
    "* The fit function from Randomclassifiers will be used"
   ]
  },
  {
   "cell_type": "code",
   "execution_count": 136,
   "id": "1a5b0080",
   "metadata": {},
   "outputs": [],
   "source": [
    "# Fitting the model\n",
    "clf.fit(X_train, y_train);"
   ]
  },
  {
   "cell_type": "markdown",
   "id": "e64baf0f",
   "metadata": {},
   "source": [
    "## Make a prediction\n",
    " \n",
    "* Make the prediction using X_test and using the predict function from RandomClassifier\n"
   ]
  },
  {
   "cell_type": "code",
   "execution_count": 137,
   "id": "624823d8",
   "metadata": {},
   "outputs": [
    {
     "data": {
      "text/plain": [
       "array([0, 0, 1, 1, 0, 1, 0, 0, 0, 1, 0, 1, 1, 0, 0, 0, 1, 0, 1, 0, 1, 1,\n",
       "       1, 1, 0, 0, 0, 1, 0, 1, 1, 1, 1, 0, 1, 0, 0, 1, 1, 1, 0, 0, 0, 1,\n",
       "       1, 1, 1, 1, 1, 0, 1, 1, 1, 1, 0, 0, 0, 0, 1, 0, 0])"
      ]
     },
     "execution_count": 137,
     "metadata": {},
     "output_type": "execute_result"
    }
   ],
   "source": [
    "#predict using the \n",
    "y_predicts = clf.predict(X_test)\n",
    "y_predicts"
   ]
  },
  {
   "cell_type": "markdown",
   "id": "a27a093f",
   "metadata": {},
   "source": [
    "* Result of the prediction is in the form of an array but it corresponds to our target variable which has 1's and 0's"
   ]
  },
  {
   "cell_type": "markdown",
   "id": "4b8e53f6",
   "metadata": {},
   "source": [
    "## Evaluate the model\n",
    "* The model will be evaluated using the score function from Randomforestclassifier\n",
    "* And also using classification report, confusion matrix and accuracy score"
   ]
  },
  {
   "cell_type": "code",
   "execution_count": 138,
   "id": "e58572db",
   "metadata": {},
   "outputs": [
    {
     "data": {
      "text/plain": [
       "1.0"
      ]
     },
     "execution_count": 138,
     "metadata": {},
     "output_type": "execute_result"
    }
   ],
   "source": [
    "# Evaluating the score of the training data\n",
    "clf.score(X_train, y_train)"
   ]
  },
  {
   "cell_type": "code",
   "execution_count": 139,
   "id": "b644f075",
   "metadata": {},
   "outputs": [
    {
     "data": {
      "text/plain": [
       "0.8852459016393442"
      ]
     },
     "execution_count": 139,
     "metadata": {},
     "output_type": "execute_result"
    }
   ],
   "source": [
    "# Evaluating the score of the test data\n",
    "clf.score(X_test, y_test)"
   ]
  },
  {
   "cell_type": "markdown",
   "id": "cd17589f",
   "metadata": {},
   "source": [
    "* The training gives a 1.0(100%) score because it trained on a seen data. While the test data give a score of 0.885(89%) which means it can predict the target at a 89% accuracy"
   ]
  },
  {
   "cell_type": "code",
   "execution_count": 140,
   "id": "0e2f8f81",
   "metadata": {},
   "outputs": [],
   "source": [
    "# importing libraries for classification report, confusion matrix and accuracy score\n",
    "from sklearn.metrics import classification_report, confusion_matrix, accuracy_score"
   ]
  },
  {
   "cell_type": "code",
   "execution_count": 141,
   "id": "63656aef",
   "metadata": {},
   "outputs": [
    {
     "name": "stdout",
     "output_type": "stream",
     "text": [
      "              precision    recall  f1-score   support\n",
      "\n",
      "           0       0.90      0.87      0.88        30\n",
      "           1       0.88      0.90      0.89        31\n",
      "\n",
      "    accuracy                           0.89        61\n",
      "   macro avg       0.89      0.88      0.89        61\n",
      "weighted avg       0.89      0.89      0.89        61\n",
      "\n"
     ]
    }
   ],
   "source": [
    "#printing the result of classification report of the target test and the predicted test\n",
    "print(classification_report(y_test, y_predicts))"
   ]
  },
  {
   "cell_type": "code",
   "execution_count": 142,
   "id": "d9957dd9",
   "metadata": {},
   "outputs": [
    {
     "name": "stdout",
     "output_type": "stream",
     "text": [
      "[[26  4]\n",
      " [ 3 28]]\n"
     ]
    }
   ],
   "source": [
    "#printing the result of confusion matrix report of the target test and the predicted test\n",
    "print(confusion_matrix(y_test, y_predicts))"
   ]
  },
  {
   "cell_type": "code",
   "execution_count": 143,
   "id": "1db58597",
   "metadata": {},
   "outputs": [
    {
     "name": "stdout",
     "output_type": "stream",
     "text": [
      "0.8852459016393442\n"
     ]
    }
   ],
   "source": [
    "#printing the result of accuracy score report of the target test and the predicted test\n",
    "print(accuracy_score(y_test, y_predicts))"
   ]
  },
  {
   "cell_type": "markdown",
   "id": "bc5fb695",
   "metadata": {},
   "source": [
    "## Improving the model\n",
    "\n",
    "* Since the Accuracy of the model is 89%, there's room for improvement\n",
    "* A good way of doing this is to use different n_estimator on the algorithm"
   ]
  },
  {
   "cell_type": "code",
   "execution_count": 144,
   "id": "8f10cb8c",
   "metadata": {},
   "outputs": [
    {
     "name": "stdout",
     "output_type": "stream",
     "text": [
      "Trying model with 10 Estimator\n",
      "Model Accuracy on test set: 78.69 %\n",
      " \n",
      "Trying model with 20 Estimator\n",
      "Model Accuracy on test set: 85.25 %\n",
      " \n",
      "Trying model with 30 Estimator\n",
      "Model Accuracy on test set: 81.97 %\n",
      " \n",
      "Trying model with 40 Estimator\n",
      "Model Accuracy on test set: 86.89 %\n",
      " \n",
      "Trying model with 50 Estimator\n",
      "Model Accuracy on test set: 83.61 %\n",
      " \n",
      "Trying model with 60 Estimator\n",
      "Model Accuracy on test set: 83.61 %\n",
      " \n",
      "Trying model with 70 Estimator\n",
      "Model Accuracy on test set: 81.97 %\n",
      " \n",
      "Trying model with 80 Estimator\n",
      "Model Accuracy on test set: 86.89 %\n",
      " \n",
      "Trying model with 90 Estimator\n",
      "Model Accuracy on test set: 80.33 %\n",
      " \n"
     ]
    }
   ],
   "source": [
    "np.random.seed(42)\n",
    "for i in range(10, 100, 10):\n",
    "    print(f\"Trying model with {i} Estimator\")\n",
    "    #training the model\n",
    "    clf = RandomForestClassifier(n_estimators = i).fit(X_train,y_train)\n",
    "    #printing the accuracy for each value of estimator\n",
    "    print(f\"Model Accuracy on test set: {clf.score(X_test, y_test) * 100:.2f} %\")\n",
    "    print(\" \")"
   ]
  },
  {
   "cell_type": "markdown",
   "id": "2189d381",
   "metadata": {},
   "source": [
    "### From the various estimators, none of the estimator was able to improve our 89% accuracy. Which means 100 n_estimator is good for the Random algorithm"
   ]
  },
  {
   "cell_type": "markdown",
   "id": "9bae584d",
   "metadata": {},
   "source": [
    "## Save and load the model\n",
    "\n",
    "* the model can be saved using pickle.dump function\n",
    "* the model can be opened using pickle.load function"
   ]
  },
  {
   "cell_type": "code",
   "execution_count": 145,
   "id": "c416e874",
   "metadata": {},
   "outputs": [],
   "source": [
    "#importing the library\n",
    "import pickle\n",
    "\n",
    "#writing the model into a file\n",
    "pickle.dump(clf, open(\"/Users/mac/Downloads/random_forest_model_1.pk1\", \"wb\"))"
   ]
  },
  {
   "cell_type": "code",
   "execution_count": 146,
   "id": "46741ee1",
   "metadata": {},
   "outputs": [
    {
     "data": {
      "text/plain": [
       "0.8032786885245902"
      ]
     },
     "execution_count": 146,
     "metadata": {},
     "output_type": "execute_result"
    }
   ],
   "source": [
    "#Reading model from a file\n",
    "\n",
    "loaded_model = pickle.load(open(\"/Users/mac/Downloads/random_forest_model_1.pk1\", \"rb\"))\n",
    "\n",
    "#Testing the loaded model\n",
    "loaded_model.score(X_test , y_test)"
   ]
  },
  {
   "cell_type": "code",
   "execution_count": null,
   "id": "229c1551",
   "metadata": {},
   "outputs": [],
   "source": []
  }
 ],
 "metadata": {
  "kernelspec": {
   "display_name": "Python 3 (ipykernel)",
   "language": "python",
   "name": "python3"
  },
  "language_info": {
   "codemirror_mode": {
    "name": "ipython",
    "version": 3
   },
   "file_extension": ".py",
   "mimetype": "text/x-python",
   "name": "python",
   "nbconvert_exporter": "python",
   "pygments_lexer": "ipython3",
   "version": "3.9.12"
  }
 },
 "nbformat": 4,
 "nbformat_minor": 5
} 
